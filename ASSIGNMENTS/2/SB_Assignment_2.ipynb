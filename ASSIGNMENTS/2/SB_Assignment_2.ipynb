{
  "nbformat": 4,
  "nbformat_minor": 0,
  "metadata": {
    "colab": {
      "provenance": []
    },
    "kernelspec": {
      "name": "python3",
      "display_name": "Python 3"
    },
    "language_info": {
      "name": "python"
    }
  },
  "cells": [
    {
      "cell_type": "markdown",
      "source": [
        "<h1> Smart Bridge Assignment - 2</h1><br>\n",
        "<h1>Name: Kuchibhatla Mohan Datta</h1><br>\n",
        "<h1>Reg_No : 20MID0012</h1><br>\n"
      ],
      "metadata": {
        "id": "AcxlG3KqlZV2"
      }
    },
    {
      "cell_type": "markdown",
      "source": [
        "<h3> Build an ANN model for Drug classification.\n",
        "This project aims to analyze the relationship between various medical parameters and drug effectiveness. The dataset consists of patient information,\n",
        "including age, sex, blood pressure levels (BP), cholesterol levels, sodium-to-potassium ratio (Na_to_K), drug type, and corresponding labels. The goal is to\n",
        "develop a model that can accurately predict the class or category of a given drug based on its features.\n",
        "Dataset Link: https://www.kaggle.com/datasets/prathamtripathi/drug-classification</h3>"
      ],
      "metadata": {
        "id": "kIXBrkHDldy4"
      }
    },
    {
      "cell_type": "code",
      "execution_count": 32,
      "metadata": {
        "id": "tu1AahAYlKXZ"
      },
      "outputs": [],
      "source": [
        "# Importing Required Libraries\n",
        "\n",
        "import numpy as np\n",
        "import pandas as pd\n",
        "import matplotlib.pyplot as plt\n",
        "import seaborn as sns"
      ]
    },
    {
      "cell_type": "markdown",
      "source": [
        "# Task 1: Read the dataset and do data pre-processing"
      ],
      "metadata": {
        "id": "YwrGPVacnYGF"
      }
    },
    {
      "cell_type": "code",
      "source": [
        "df = pd.read_csv('/content/drug200.csv') #Reading the data\n",
        "print(df.head(),df.tail())\n",
        "df.info()"
      ],
      "metadata": {
        "colab": {
          "base_uri": "https://localhost:8080/"
        },
        "id": "aHDnxOA6mF6I",
        "outputId": "2eb82c72-69c1-44e3-9ebb-841c2c17b7dd"
      },
      "execution_count": 33,
      "outputs": [
        {
          "output_type": "stream",
          "name": "stdout",
          "text": [
            "   Age Sex      BP Cholesterol  Na_to_K   Drug\n",
            "0   23   F    HIGH        HIGH   25.355  DrugY\n",
            "1   47   M     LOW        HIGH   13.093  drugC\n",
            "2   47   M     LOW        HIGH   10.114  drugC\n",
            "3   28   F  NORMAL        HIGH    7.798  drugX\n",
            "4   61   F     LOW        HIGH   18.043  DrugY      Age Sex      BP Cholesterol  Na_to_K   Drug\n",
            "195   56   F     LOW        HIGH   11.567  drugC\n",
            "196   16   M     LOW        HIGH   12.006  drugC\n",
            "197   52   M  NORMAL        HIGH    9.894  drugX\n",
            "198   23   M  NORMAL      NORMAL   14.020  drugX\n",
            "199   40   F     LOW      NORMAL   11.349  drugX\n",
            "<class 'pandas.core.frame.DataFrame'>\n",
            "RangeIndex: 200 entries, 0 to 199\n",
            "Data columns (total 6 columns):\n",
            " #   Column       Non-Null Count  Dtype  \n",
            "---  ------       --------------  -----  \n",
            " 0   Age          200 non-null    int64  \n",
            " 1   Sex          200 non-null    object \n",
            " 2   BP           200 non-null    object \n",
            " 3   Cholesterol  200 non-null    object \n",
            " 4   Na_to_K      200 non-null    float64\n",
            " 5   Drug         200 non-null    object \n",
            "dtypes: float64(1), int64(1), object(4)\n",
            "memory usage: 9.5+ KB\n"
          ]
        }
      ]
    },
    {
      "cell_type": "code",
      "source": [
        "df['Drug'].value_counts()"
      ],
      "metadata": {
        "colab": {
          "base_uri": "https://localhost:8080/"
        },
        "id": "oOyeer2xmF9g",
        "outputId": "48eeb95b-97d0-4e74-b73a-2267e797282c"
      },
      "execution_count": 34,
      "outputs": [
        {
          "output_type": "execute_result",
          "data": {
            "text/plain": [
              "DrugY    91\n",
              "drugX    54\n",
              "drugA    23\n",
              "drugC    16\n",
              "drugB    16\n",
              "Name: Drug, dtype: int64"
            ]
          },
          "metadata": {},
          "execution_count": 34
        }
      ]
    },
    {
      "cell_type": "code",
      "source": [
        "#Checking for null values\n",
        "\n",
        "df.isnull().sum()"
      ],
      "metadata": {
        "colab": {
          "base_uri": "https://localhost:8080/"
        },
        "id": "0b5WpvXUmGFV",
        "outputId": "37a2124d-05fc-4f0f-f630-f9894a62dee2"
      },
      "execution_count": 35,
      "outputs": [
        {
          "output_type": "execute_result",
          "data": {
            "text/plain": [
              "Age            0\n",
              "Sex            0\n",
              "BP             0\n",
              "Cholesterol    0\n",
              "Na_to_K        0\n",
              "Drug           0\n",
              "dtype: int64"
            ]
          },
          "metadata": {},
          "execution_count": 35
        }
      ]
    },
    {
      "cell_type": "code",
      "source": [
        "sns.boxplot(df['Age'])# no outliers\n"
      ],
      "metadata": {
        "colab": {
          "base_uri": "https://localhost:8080/",
          "height": 447
        },
        "id": "s6GpmMtWQHY0",
        "outputId": "382adf10-75f5-4bc6-caac-0dcc2e51fe67"
      },
      "execution_count": 36,
      "outputs": [
        {
          "output_type": "execute_result",
          "data": {
            "text/plain": [
              "<Axes: >"
            ]
          },
          "metadata": {},
          "execution_count": 36
        },
        {
          "output_type": "display_data",
          "data": {
            "text/plain": [
              "<Figure size 640x480 with 1 Axes>"
            ],
            "image/png": "[encoded data removed]"
          },
          "metadata": {}
        }
      ]
    },
    {
      "cell_type": "code",
      "source": [
        "sns.boxplot(df['Na_to_K'])# contains outliers"
      ],
      "metadata": {
        "colab": {
          "base_uri": "https://localhost:8080/",
          "height": 447
        },
        "id": "vBLjoTmsUM-a",
        "outputId": "47c39154-80c6-4fe4-9849-446809784eca"
      },
      "execution_count": 37,
      "outputs": [
        {
          "output_type": "execute_result",
          "data": {
            "text/plain": [
              "<Axes: >"
            ]
          },
          "metadata": {},
          "execution_count": 37
        },
        {
          "output_type": "display_data",
          "data": {
            "text/plain": [
              "<Figure size 640x480 with 1 Axes>"
            ],
            "image/png": "[encoded data removed]"
          },
          "metadata": {}
        }
      ]
    },
    {
      "cell_type": "code",
      "source": [
        "# Na_to_K contains outliers\n",
        "# Replacing outliers with medians\n",
        "q1 = df.Na_to_K.quantile(0.25)\n",
        "q3 = df.Na_to_K.quantile(0.75)\n",
        "\n",
        "IQR = q3-q1\n",
        "print('IQR is:\\t',IQR)\n",
        "\n",
        "UpperLimit = q3 + 1.5*IQR\n",
        "print('Upper Limit is:\\t',UpperLimit)\n",
        "\n",
        "\n"
      ],
      "metadata": {
        "colab": {
          "base_uri": "https://localhost:8080/"
        },
        "id": "sLlORqAdQMND",
        "outputId": "9a7310b4-d765-4ba1-b3de-0203e8b19119"
      },
      "execution_count": 38,
      "outputs": [
        {
          "output_type": "stream",
          "name": "stdout",
          "text": [
            "IQR is:\t 8.9345\n",
            "Upper Limit is:\t 32.78175\n"
          ]
        }
      ]
    },
    {
      "cell_type": "code",
      "source": [
        "print(df['Na_to_K'].median())"
      ],
      "metadata": {
        "colab": {
          "base_uri": "https://localhost:8080/"
        },
        "id": "Q0uFBcTgTOiR",
        "outputId": "cef9c146-7b15-4cff-ff17-37a2382ada5f"
      },
      "execution_count": 39,
      "outputs": [
        {
          "output_type": "stream",
          "name": "stdout",
          "text": [
            "13.9365\n"
          ]
        }
      ]
    },
    {
      "cell_type": "code",
      "source": [
        "df['Na_to_K'] = np.where(df['Na_to_K']>UpperLimit,13.9365,df['Na_to_K'])"
      ],
      "metadata": {
        "id": "QAmG0JtNSxuk"
      },
      "execution_count": 40,
      "outputs": []
    },
    {
      "cell_type": "code",
      "source": [
        "sns.boxplot(df['Na_to_K'])# Still contain outlier"
      ],
      "metadata": {
        "colab": {
          "base_uri": "https://localhost:8080/",
          "height": 447
        },
        "id": "MZ6Nm5JtTa4t",
        "outputId": "2a7f9752-d498-4951-c96b-e9e2faf529f9"
      },
      "execution_count": 41,
      "outputs": [
        {
          "output_type": "execute_result",
          "data": {
            "text/plain": [
              "<Axes: >"
            ]
          },
          "metadata": {},
          "execution_count": 41
        },
        {
          "output_type": "display_data",
          "data": {
            "text/plain": [
              "<Figure size 640x480 with 1 Axes>"
            ],
            "image/png": "[encoded data removed]"
          },
          "metadata": {}
        }
      ]
    },
    {
      "cell_type": "code",
      "source": [
        "# Na_to_K contains outliers\n",
        "\n",
        "q1 = df.Na_to_K.quantile(0.25)\n",
        "q3 = df.Na_to_K.quantile(0.75)\n",
        "\n",
        "IQR = q3-q1\n",
        "print('IQR is:\\t',IQR)\n",
        "\n",
        "UpperLimit = q3 + 1.5*IQR\n",
        "print('Upper Limit is:\\t',UpperLimit)\n",
        "print(df['Na_to_K'].median())"
      ],
      "metadata": {
        "colab": {
          "base_uri": "https://localhost:8080/"
        },
        "id": "Gw8N85vjmaYG",
        "outputId": "68ef1ec2-a86b-45eb-edef-41e491e0ee70"
      },
      "execution_count": 42,
      "outputs": [
        {
          "output_type": "stream",
          "name": "stdout",
          "text": [
            "IQR is:\t 8.409000000000002\n",
            "Upper Limit is:\t 31.468000000000004\n",
            "13.93575\n"
          ]
        }
      ]
    },
    {
      "cell_type": "code",
      "source": [
        "df['Na_to_K'] = np.where(df['Na_to_K']>UpperLimit,13.93575,df['Na_to_K'])"
      ],
      "metadata": {
        "id": "sBS0GNDImlW2"
      },
      "execution_count": 43,
      "outputs": []
    },
    {
      "cell_type": "code",
      "source": [
        "sns.boxplot(df['Na_to_K'])# Outlier handled successfully"
      ],
      "metadata": {
        "colab": {
          "base_uri": "https://localhost:8080/",
          "height": 447
        },
        "id": "SXQlDFq_m8Dm",
        "outputId": "fb138d1a-a59f-4156-9fa9-97c3bb69dd80"
      },
      "execution_count": 44,
      "outputs": [
        {
          "output_type": "execute_result",
          "data": {
            "text/plain": [
              "<Axes: >"
            ]
          },
          "metadata": {},
          "execution_count": 44
        },
        {
          "output_type": "display_data",
          "data": {
            "text/plain": [
              "<Figure size 640x480 with 1 Axes>"
            ],
            "image/png": "[encoded data removed]"
          },
          "metadata": {}
        }
      ]
    },
    {
      "cell_type": "code",
      "source": [
        "from sklearn.preprocessing import LabelEncoder, MinMaxScaler #library used for Encoding\n",
        "\n",
        "le = LabelEncoder()  #initialize the lib\n",
        "# Convert categorical features to numerical labels\n",
        "\n",
        "df['Sex'] = le.fit_transform(df['Sex'])\n",
        "df['BP'] = le.fit_transform(df['BP'])\n",
        "df['Cholesterol'] = le.fit_transform(df['Cholesterol'])\n",
        "df['Drug'] = le.fit_transform(df['Drug'])\n",
        "\n",
        "# Scale the numerical features\n",
        "scaler = MinMaxScaler()\n",
        "df[['Age', 'Na_to_K']] = scaler.fit_transform(df[['Age', 'Na_to_K']])"
      ],
      "metadata": {
        "id": "UPIXsNolfe9M"
      },
      "execution_count": 45,
      "outputs": []
    },
    {
      "cell_type": "code",
      "source": [
        "# Splitting the data\n",
        "#x = df[['Age', 'Sex', 'BP', 'Cholesterol', 'Na_to_K']]\n",
        "x=df.drop(columns = ['Drug'],axis=1)\n",
        "y = df['Drug']\n",
        "y[0:5]"
      ],
      "metadata": {
        "colab": {
          "base_uri": "https://localhost:8080/"
        },
        "id": "W-eVb7DRmGI2",
        "outputId": "132bfa94-c3fb-4faf-be75-73ee9d9da79a"
      },
      "execution_count": 46,
      "outputs": [
        {
          "output_type": "execute_result",
          "data": {
            "text/plain": [
              "0    0\n",
              "1    3\n",
              "2    3\n",
              "3    4\n",
              "4    0\n",
              "Name: Drug, dtype: int64"
            ]
          },
          "metadata": {},
          "execution_count": 46
        }
      ]
    },
    {
      "cell_type": "code",
      "source": [
        "from sklearn.model_selection import train_test_split\n",
        "\n",
        "xtrain,xtest,ytrain,ytest = train_test_split(x,y,test_size = 0.2,random_state=21)\n",
        "print(xtrain.shape,xtest.shape,ytrain.shape,ytest.shape)\n",
        "xtrain.head(),ytrain.head(),xtest.head(),ytest.head()"
      ],
      "metadata": {
        "colab": {
          "base_uri": "https://localhost:8080/"
        },
        "id": "RbcJlAOCmfYU",
        "outputId": "52de01c2-35b7-44e9-ccc0-d8602375187f"
      },
      "execution_count": 47,
      "outputs": [
        {
          "output_type": "stream",
          "name": "stdout",
          "text": [
            "(160, 5) (40, 5) (160,) (40,)\n"
          ]
        },
        {
          "output_type": "execute_result",
          "data": {
            "text/plain": [
              "(          Age  Sex  BP  Cholesterol   Na_to_K\n",
              " 176  0.559322    1   0            1  0.171900\n",
              " 111  0.542373    0   2            1  0.017038\n",
              " 114  0.084746    0   2            1  0.123956\n",
              " 14   0.593220    0   2            0  0.264785\n",
              " 106  0.118644    1   2            0  0.233919,\n",
              " 176    1\n",
              " 111    4\n",
              " 114    4\n",
              " 14     4\n",
              " 106    4\n",
              " Name: Drug, dtype: int64,\n",
              "           Age  Sex  BP  Cholesterol   Na_to_K\n",
              " 144  0.406780    1   0            0  0.139718\n",
              " 9    0.474576    1   1            1  0.539076\n",
              " 17   0.474576    1   0            0  0.317009\n",
              " 20   0.711864    1   1            1  0.529199\n",
              " 45   0.864407    0   2            1  0.075641,\n",
              " 144    1\n",
              " 9      0\n",
              " 17     1\n",
              " 20     0\n",
              " 45     4\n",
              " Name: Drug, dtype: int64)"
            ]
          },
          "metadata": {},
          "execution_count": 47
        }
      ]
    },
    {
      "cell_type": "markdown",
      "source": [
        "# Task 2: Build the ANN model with (input layer, min 3 hidden layers & output layer)"
      ],
      "metadata": {
        "id": "hlChVgw4nqnO"
      }
    },
    {
      "cell_type": "code",
      "source": [
        "# ANN Model\n",
        "\n",
        "from tensorflow.keras.models import Sequential\n",
        "from tensorflow.keras.layers import Dense\n",
        "\n",
        "model = Sequential()\n",
        "model.add(Dense(64,input_dim=5,activation = 'relu')) #Adding Input layer with 4 neurons since we have 4 columns \n",
        "model.add(Dense(32,activation = 'relu')) #Adding 1st Hidden Layer with 32 neurons\n",
        "model.add(Dense(26,activation = 'relu')) #Adding 2nd Hidden Layer with 26 neurons\n",
        "model.add(Dense(18,activation = 'relu')) #Adding 3rd Hidden Layer with 18 neurons\n",
        "model.add(Dense(12,activation = 'relu')) #Adding 4th Hidden Layer with 12 neurons\n",
        "\n",
        "# Here it is multi class classification we softmax, if binary we use sigmoid\n",
        "model.add(Dense(5,activation = 'softmax'))  #Adding Ouput layer with 3 since we have 3 types of species"
      ],
      "metadata": {
        "id": "hArgYiIcmfa1"
      },
      "execution_count": 48,
      "outputs": []
    },
    {
      "cell_type": "code",
      "source": [
        "# Here if it is softmax we use categorical_crossentropy and if it is sigmoid means we use binary_crossentropy\n",
        "\n",
        "# we mentioned metrics as accuracy so accuracy will also be printed at the time of output\n",
        "model.compile(optimizer='adam',loss='sparse_categorical_crossentropy',metrics = ['accuracy'])"
      ],
      "metadata": {
        "id": "FxLoB_2cmfdX"
      },
      "execution_count": 49,
      "outputs": []
    },
    {
      "cell_type": "code",
      "source": [
        "model.summary()"
      ],
      "metadata": {
        "colab": {
          "base_uri": "https://localhost:8080/"
        },
        "id": "9Ok55TAuUsNm",
        "outputId": "4788d4f2-9157-437d-b4f8-5d1e9a002e4f"
      },
      "execution_count": 50,
      "outputs": [
        {
          "output_type": "stream",
          "name": "stdout",
          "text": [
            "Model: \"sequential_1\"\n",
            "_________________________________________________________________\n",
            " Layer (type)                Output Shape              Param #   \n",
            "=================================================================\n",
            " dense_5 (Dense)             (None, 64)                384       \n",
            "                                                                 \n",
            " dense_6 (Dense)             (None, 32)                2080      \n",
            "                                                                 \n",
            " dense_7 (Dense)             (None, 26)                858       \n",
            "                                                                 \n",
            " dense_8 (Dense)             (None, 18)                486       \n",
            "                                                                 \n",
            " dense_9 (Dense)             (None, 12)                228       \n",
            "                                                                 \n",
            " dense_10 (Dense)            (None, 5)                 65        \n",
            "                                                                 \n",
            "=================================================================\n",
            "Total params: 4,101\n",
            "Trainable params: 4,101\n",
            "Non-trainable params: 0\n",
            "_________________________________________________________________\n"
          ]
        }
      ]
    },
    {
      "cell_type": "code",
      "source": [
        "model.fit(xtrain, ytrain, epochs=56, batch_size=20,validation_data=(xtest, ytest))"
      ],
      "metadata": {
        "colab": {
          "base_uri": "https://localhost:8080/"
        },
        "id": "mu2b7-aOmff5",
        "outputId": "7652ea42-88a9-4723-add2-cbe51ae1699b"
      },
      "execution_count": 53,
      "outputs": [
        {
          "output_type": "stream",
          "name": "stdout",
          "text": [
            "Epoch 1/56\n",
            "8/8 [==============================] - 0s 12ms/step - loss: 0.1844 - accuracy: 0.9312 - val_loss: 0.3470 - val_accuracy: 0.8250\n",
            "Epoch 2/56\n",
            "8/8 [==============================] - 0s 8ms/step - loss: 0.1943 - accuracy: 0.9125 - val_loss: 0.4093 - val_accuracy: 0.8000\n",
            "Epoch 3/56\n",
            "8/8 [==============================] - 0s 6ms/step - loss: 0.1791 - accuracy: 0.9125 - val_loss: 0.3207 - val_accuracy: 0.8000\n",
            "Epoch 4/56\n",
            "8/8 [==============================] - 0s 7ms/step - loss: 0.1783 - accuracy: 0.9187 - val_loss: 0.4518 - val_accuracy: 0.8000\n",
            "Epoch 5/56\n",
            "8/8 [==============================] - 0s 6ms/step - loss: 0.1849 - accuracy: 0.9187 - val_loss: 0.3599 - val_accuracy: 0.8000\n",
            "Epoch 6/56\n",
            "8/8 [==============================] - 0s 6ms/step - loss: 0.1710 - accuracy: 0.9375 - val_loss: 0.3628 - val_accuracy: 0.8000\n",
            "Epoch 7/56\n",
            "8/8 [==============================] - 0s 6ms/step - loss: 0.1834 - accuracy: 0.9187 - val_loss: 0.3430 - val_accuracy: 0.8500\n",
            "Epoch 8/56\n",
            "8/8 [==============================] - 0s 6ms/step - loss: 0.1741 - accuracy: 0.9250 - val_loss: 0.3513 - val_accuracy: 0.8000\n",
            "Epoch 9/56\n",
            "8/8 [==============================] - 0s 6ms/step - loss: 0.1676 - accuracy: 0.9438 - val_loss: 0.3171 - val_accuracy: 0.8500\n",
            "Epoch 10/56\n",
            "8/8 [==============================] - 0s 7ms/step - loss: 0.1721 - accuracy: 0.9312 - val_loss: 0.3350 - val_accuracy: 0.8250\n",
            "Epoch 11/56\n",
            "8/8 [==============================] - 0s 6ms/step - loss: 0.1672 - accuracy: 0.9375 - val_loss: 0.3516 - val_accuracy: 0.8250\n",
            "Epoch 12/56\n",
            "8/8 [==============================] - 0s 7ms/step - loss: 0.1644 - accuracy: 0.9438 - val_loss: 0.3628 - val_accuracy: 0.8500\n",
            "Epoch 13/56\n",
            "8/8 [==============================] - 0s 6ms/step - loss: 0.1681 - accuracy: 0.9438 - val_loss: 0.2960 - val_accuracy: 0.8500\n",
            "Epoch 14/56\n",
            "8/8 [==============================] - 0s 6ms/step - loss: 0.1592 - accuracy: 0.9438 - val_loss: 0.3208 - val_accuracy: 0.8250\n",
            "Epoch 15/56\n",
            "8/8 [==============================] - 0s 7ms/step - loss: 0.1578 - accuracy: 0.9438 - val_loss: 0.3455 - val_accuracy: 0.8500\n",
            "Epoch 16/56\n",
            "8/8 [==============================] - 0s 6ms/step - loss: 0.1540 - accuracy: 0.9500 - val_loss: 0.2534 - val_accuracy: 0.8750\n",
            "Epoch 17/56\n",
            "8/8 [==============================] - 0s 12ms/step - loss: 0.1640 - accuracy: 0.9438 - val_loss: 0.3604 - val_accuracy: 0.8250\n",
            "Epoch 18/56\n",
            "8/8 [==============================] - 0s 6ms/step - loss: 0.1605 - accuracy: 0.9375 - val_loss: 0.3010 - val_accuracy: 0.8500\n",
            "Epoch 19/56\n",
            "8/8 [==============================] - 0s 9ms/step - loss: 0.1475 - accuracy: 0.9438 - val_loss: 0.2975 - val_accuracy: 0.8500\n",
            "Epoch 20/56\n",
            "8/8 [==============================] - 0s 9ms/step - loss: 0.1463 - accuracy: 0.9438 - val_loss: 0.2837 - val_accuracy: 0.8500\n",
            "Epoch 21/56\n",
            "8/8 [==============================] - 0s 7ms/step - loss: 0.1455 - accuracy: 0.9375 - val_loss: 0.2984 - val_accuracy: 0.8500\n",
            "Epoch 22/56\n",
            "8/8 [==============================] - 0s 8ms/step - loss: 0.1458 - accuracy: 0.9563 - val_loss: 0.3144 - val_accuracy: 0.8500\n",
            "Epoch 23/56\n",
            "8/8 [==============================] - 0s 9ms/step - loss: 0.1422 - accuracy: 0.9438 - val_loss: 0.2863 - val_accuracy: 0.8500\n",
            "Epoch 24/56\n",
            "8/8 [==============================] - 0s 9ms/step - loss: 0.1356 - accuracy: 0.9563 - val_loss: 0.2963 - val_accuracy: 0.8500\n",
            "Epoch 25/56\n",
            "8/8 [==============================] - 0s 6ms/step - loss: 0.1403 - accuracy: 0.9563 - val_loss: 0.2878 - val_accuracy: 0.8500\n",
            "Epoch 26/56\n",
            "8/8 [==============================] - 0s 6ms/step - loss: 0.1311 - accuracy: 0.9500 - val_loss: 0.3044 - val_accuracy: 0.8500\n",
            "Epoch 27/56\n",
            "8/8 [==============================] - 0s 6ms/step - loss: 0.1389 - accuracy: 0.9625 - val_loss: 0.3114 - val_accuracy: 0.8500\n",
            "Epoch 28/56\n",
            "8/8 [==============================] - 0s 7ms/step - loss: 0.1356 - accuracy: 0.9438 - val_loss: 0.3029 - val_accuracy: 0.8500\n",
            "Epoch 29/56\n",
            "8/8 [==============================] - 0s 9ms/step - loss: 0.1378 - accuracy: 0.9438 - val_loss: 0.2768 - val_accuracy: 0.8500\n",
            "Epoch 30/56\n",
            "8/8 [==============================] - 0s 6ms/step - loss: 0.1280 - accuracy: 0.9563 - val_loss: 0.2720 - val_accuracy: 0.8500\n",
            "Epoch 31/56\n",
            "8/8 [==============================] - 0s 9ms/step - loss: 0.1269 - accuracy: 0.9563 - val_loss: 0.2956 - val_accuracy: 0.8500\n",
            "Epoch 32/56\n",
            "8/8 [==============================] - 0s 7ms/step - loss: 0.1284 - accuracy: 0.9563 - val_loss: 0.2489 - val_accuracy: 0.8750\n",
            "Epoch 33/56\n",
            "8/8 [==============================] - 0s 7ms/step - loss: 0.1211 - accuracy: 0.9563 - val_loss: 0.3289 - val_accuracy: 0.8750\n",
            "Epoch 34/56\n",
            "8/8 [==============================] - 0s 9ms/step - loss: 0.1267 - accuracy: 0.9625 - val_loss: 0.2303 - val_accuracy: 0.8750\n",
            "Epoch 35/56\n",
            "8/8 [==============================] - 0s 8ms/step - loss: 0.1220 - accuracy: 0.9625 - val_loss: 0.3529 - val_accuracy: 0.8750\n",
            "Epoch 36/56\n",
            "8/8 [==============================] - 0s 9ms/step - loss: 0.1529 - accuracy: 0.9438 - val_loss: 0.2230 - val_accuracy: 0.8750\n",
            "Epoch 37/56\n",
            "8/8 [==============================] - 0s 9ms/step - loss: 0.1235 - accuracy: 0.9500 - val_loss: 0.2850 - val_accuracy: 0.8500\n",
            "Epoch 38/56\n",
            "8/8 [==============================] - 0s 9ms/step - loss: 0.1253 - accuracy: 0.9500 - val_loss: 0.2057 - val_accuracy: 0.8750\n",
            "Epoch 39/56\n",
            "8/8 [==============================] - 0s 9ms/step - loss: 0.1179 - accuracy: 0.9563 - val_loss: 0.2640 - val_accuracy: 0.8750\n",
            "Epoch 40/56\n",
            "8/8 [==============================] - 0s 6ms/step - loss: 0.1125 - accuracy: 0.9500 - val_loss: 0.2857 - val_accuracy: 0.8750\n",
            "Epoch 41/56\n",
            "8/8 [==============================] - 0s 9ms/step - loss: 0.1182 - accuracy: 0.9438 - val_loss: 0.2971 - val_accuracy: 0.8500\n",
            "Epoch 42/56\n",
            "8/8 [==============================] - 0s 6ms/step - loss: 0.1138 - accuracy: 0.9500 - val_loss: 0.2954 - val_accuracy: 0.8750\n",
            "Epoch 43/56\n",
            "8/8 [==============================] - 0s 8ms/step - loss: 0.1173 - accuracy: 0.9500 - val_loss: 0.2063 - val_accuracy: 0.8750\n",
            "Epoch 44/56\n",
            "8/8 [==============================] - 0s 6ms/step - loss: 0.1279 - accuracy: 0.9500 - val_loss: 0.2583 - val_accuracy: 0.8750\n",
            "Epoch 45/56\n",
            "8/8 [==============================] - 0s 9ms/step - loss: 0.1655 - accuracy: 0.9500 - val_loss: 0.1856 - val_accuracy: 0.8750\n",
            "Epoch 46/56\n",
            "8/8 [==============================] - 0s 7ms/step - loss: 0.1648 - accuracy: 0.9375 - val_loss: 0.4472 - val_accuracy: 0.8750\n",
            "Epoch 47/56\n",
            "8/8 [==============================] - 0s 7ms/step - loss: 0.1766 - accuracy: 0.9312 - val_loss: 0.1939 - val_accuracy: 0.8750\n",
            "Epoch 48/56\n",
            "8/8 [==============================] - 0s 7ms/step - loss: 0.1163 - accuracy: 0.9625 - val_loss: 0.3877 - val_accuracy: 0.9000\n",
            "Epoch 49/56\n",
            "8/8 [==============================] - 0s 7ms/step - loss: 0.1109 - accuracy: 0.9625 - val_loss: 0.1739 - val_accuracy: 0.8750\n",
            "Epoch 50/56\n",
            "8/8 [==============================] - 0s 9ms/step - loss: 0.1106 - accuracy: 0.9750 - val_loss: 0.2499 - val_accuracy: 0.8750\n",
            "Epoch 51/56\n",
            "8/8 [==============================] - 0s 9ms/step - loss: 0.1007 - accuracy: 0.9625 - val_loss: 0.2478 - val_accuracy: 0.9000\n",
            "Epoch 52/56\n",
            "8/8 [==============================] - 0s 7ms/step - loss: 0.1059 - accuracy: 0.9563 - val_loss: 0.1957 - val_accuracy: 0.9000\n",
            "Epoch 53/56\n",
            "8/8 [==============================] - 0s 10ms/step - loss: 0.0963 - accuracy: 0.9625 - val_loss: 0.2508 - val_accuracy: 0.8750\n",
            "Epoch 54/56\n",
            "8/8 [==============================] - 0s 9ms/step - loss: 0.0897 - accuracy: 0.9750 - val_loss: 0.2266 - val_accuracy: 0.8750\n",
            "Epoch 55/56\n",
            "8/8 [==============================] - 0s 7ms/step - loss: 0.1039 - accuracy: 0.9563 - val_loss: 0.2919 - val_accuracy: 0.9000\n",
            "Epoch 56/56\n",
            "8/8 [==============================] - 0s 10ms/step - loss: 0.1035 - accuracy: 0.9688 - val_loss: 0.2022 - val_accuracy: 0.9000\n"
          ]
        },
        {
          "output_type": "execute_result",
          "data": {
            "text/plain": [
              "<keras.callbacks.History at 0x7f6003b15d50>"
            ]
          },
          "metadata": {},
          "execution_count": 53
        }
      ]
    },
    {
      "cell_type": "code",
      "source": [
        "x.head()"
      ],
      "metadata": {
        "colab": {
          "base_uri": "https://localhost:8080/",
          "height": 206
        },
        "id": "M9PZ-sMgoF1-",
        "outputId": "19d8d6ed-b3d7-4004-9274-735cbbaa8b08"
      },
      "execution_count": 54,
      "outputs": [
        {
          "output_type": "execute_result",
          "data": {
            "text/plain": [
              "        Age  Sex  BP  Cholesterol   Na_to_K\n",
              "0  0.135593    0   0            0  0.785464\n",
              "1  0.542373    1   1            0  0.280835\n",
              "2  0.542373    1   1            0  0.158237\n",
              "3  0.220339    0   2            0  0.062924\n",
              "4  0.779661    0   1            0  0.484547"
            ],
            "text/html": [
              "\n",
              "  <div id=\"df-66f59c0e-04cd-4c51-b8f8-324713c57ec5\">\n",
              "    <div class=\"colab-df-container\">\n",
              "      <div>\n",
              "<style scoped>\n",
              "    .dataframe tbody tr th:only-of-type {\n",
              "        vertical-align: middle;\n",
              "    }\n",
              "\n",
              "    .dataframe tbody tr th {\n",
              "        vertical-align: top;\n",
              "    }\n",
              "\n",
              "    .dataframe thead th {\n",
              "        text-align: right;\n",
              "    }\n",
              "</style>\n",
              "<table border=\"1\" class=\"dataframe\">\n",
              "  <thead>\n",
              "    <tr style=\"text-align: right;\">\n",
              "      <th></th>\n",
              "      <th>Age</th>\n",
              "      <th>Sex</th>\n",
              "      <th>BP</th>\n",
              "      <th>Cholesterol</th>\n",
              "      <th>Na_to_K</th>\n",
              "    </tr>\n",
              "  </thead>\n",
              "  <tbody>\n",
              "    <tr>\n",
              "      <th>0</th>\n",
              "      <td>0.135593</td>\n",
              "      <td>0</td>\n",
              "      <td>0</td>\n",
              "      <td>0</td>\n",
              "      <td>0.785464</td>\n",
              "    </tr>\n",
              "    <tr>\n",
              "      <th>1</th>\n",
              "      <td>0.542373</td>\n",
              "      <td>1</td>\n",
              "      <td>1</td>\n",
              "      <td>0</td>\n",
              "      <td>0.280835</td>\n",
              "    </tr>\n",
              "    <tr>\n",
              "      <th>2</th>\n",
              "      <td>0.542373</td>\n",
              "      <td>1</td>\n",
              "      <td>1</td>\n",
              "      <td>0</td>\n",
              "      <td>0.158237</td>\n",
              "    </tr>\n",
              "    <tr>\n",
              "      <th>3</th>\n",
              "      <td>0.220339</td>\n",
              "      <td>0</td>\n",
              "      <td>2</td>\n",
              "      <td>0</td>\n",
              "      <td>0.062924</td>\n",
              "    </tr>\n",
              "    <tr>\n",
              "      <th>4</th>\n",
              "      <td>0.779661</td>\n",
              "      <td>0</td>\n",
              "      <td>1</td>\n",
              "      <td>0</td>\n",
              "      <td>0.484547</td>\n",
              "    </tr>\n",
              "  </tbody>\n",
              "</table>\n",
              "</div>\n",
              "      <button class=\"colab-df-convert\" onclick=\"convertToInteractive('df-66f59c0e-04cd-4c51-b8f8-324713c57ec5')\"\n",
              "              title=\"Convert this dataframe to an interactive table.\"\n",
              "              style=\"display:none;\">\n",
              "        \n",
              "  <svg xmlns=\"http://www.w3.org/2000/svg\" height=\"24px\"viewBox=\"0 0 24 24\"\n",
              "       width=\"24px\">\n",
              "    <path d=\"M0 0h24v24H0V0z\" fill=\"none\"/>\n",
              "    <path d=\"M18.56 5.44l.94 2.06.94-2.06 2.06-.94-2.06-.94-.94-2.06-.94 2.06-2.06.94zm-11 1L8.5 8.5l.94-2.06 2.06-.94-2.06-.94L8.5 2.5l-.94 2.06-2.06.94zm10 10l.94 2.06.94-2.06 2.06-.94-2.06-.94-.94-2.06-.94 2.06-2.06.94z\"/><path d=\"M17.41 7.96l-1.37-1.37c-.4-.4-.92-.59-1.43-.59-.52 0-1.04.2-1.43.59L10.3 9.45l-7.72 7.72c-.78.78-.78 2.05 0 2.83L4 21.41c.39.39.9.59 1.41.59.51 0 1.02-.2 1.41-.59l7.78-7.78 2.81-2.81c.8-.78.8-2.07 0-2.86zM5.41 20L4 18.59l7.72-7.72 1.47 1.35L5.41 20z\"/>\n",
              "  </svg>\n",
              "      </button>\n",
              "      \n",
              "  <style>\n",
              "    .colab-df-container {\n",
              "      display:flex;\n",
              "      flex-wrap:wrap;\n",
              "      gap: 12px;\n",
              "    }\n",
              "\n",
              "    .colab-df-convert {\n",
              "      background-color: #E8F0FE;\n",
              "      border: none;\n",
              "      border-radius: 50%;\n",
              "      cursor: pointer;\n",
              "      display: none;\n",
              "      fill: #1967D2;\n",
              "      height: 32px;\n",
              "      padding: 0 0 0 0;\n",
              "      width: 32px;\n",
              "    }\n",
              "\n",
              "    .colab-df-convert:hover {\n",
              "      background-color: #E2EBFA;\n",
              "      box-shadow: 0px 1px 2px rgba(60, 64, 67, 0.3), 0px 1px 3px 1px rgba(60, 64, 67, 0.15);\n",
              "      fill: #174EA6;\n",
              "    }\n",
              "\n",
              "    [theme=dark] .colab-df-convert {\n",
              "      background-color: #3B4455;\n",
              "      fill: #D2E3FC;\n",
              "    }\n",
              "\n",
              "    [theme=dark] .colab-df-convert:hover {\n",
              "      background-color: #434B5C;\n",
              "      box-shadow: 0px 1px 3px 1px rgba(0, 0, 0, 0.15);\n",
              "      filter: drop-shadow(0px 1px 2px rgba(0, 0, 0, 0.3));\n",
              "      fill: #FFFFFF;\n",
              "    }\n",
              "  </style>\n",
              "\n",
              "      <script>\n",
              "        const buttonEl =\n",
              "          document.querySelector('#df-66f59c0e-04cd-4c51-b8f8-324713c57ec5 button.colab-df-convert');\n",
              "        buttonEl.style.display =\n",
              "          google.colab.kernel.accessAllowed ? 'block' : 'none';\n",
              "\n",
              "        async function convertToInteractive(key) {\n",
              "          const element = document.querySelector('#df-66f59c0e-04cd-4c51-b8f8-324713c57ec5');\n",
              "          const dataTable =\n",
              "            await google.colab.kernel.invokeFunction('convertToInteractive',\n",
              "                                                     [key], {});\n",
              "          if (!dataTable) return;\n",
              "\n",
              "          const docLinkHtml = 'Like what you see? Visit the ' +\n",
              "            '<a target=\"_blank\" href=https://colab.research.google.com/notebooks/data_table.ipynb>data table notebook</a>'\n",
              "            + ' to learn more about interactive tables.';\n",
              "          element.innerHTML = '';\n",
              "          dataTable['output_type'] = 'display_data';\n",
              "          await google.colab.output.renderOutput(dataTable, element);\n",
              "          const docLink = document.createElement('div');\n",
              "          docLink.innerHTML = docLinkHtml;\n",
              "          element.appendChild(docLink);\n",
              "        }\n",
              "      </script>\n",
              "    </div>\n",
              "  </div>\n",
              "  "
            ]
          },
          "metadata": {},
          "execution_count": 54
        }
      ]
    },
    {
      "cell_type": "markdown",
      "source": [
        "# Task 3: Test the model with random data"
      ],
      "metadata": {
        "id": "xh9bY3eV0A0L"
      }
    },
    {
      "cell_type": "code",
      "source": [
        "#here while predicting we should consider transformed values rather than orginal values\n",
        "ypred = model.predict([[0.87,1,1,1,0.8249]])\n",
        "print(ypred)"
      ],
      "metadata": {
        "colab": {
          "base_uri": "https://localhost:8080/"
        },
        "id": "kAEbYFYKkQkM",
        "outputId": "56f41b56-3a8d-4226-ef01-fb3e85e7b0c7"
      },
      "execution_count": 55,
      "outputs": [
        {
          "output_type": "stream",
          "name": "stdout",
          "text": [
            "1/1 [==============================] - 0s 97ms/step\n",
            "[[1.0000000e+00 1.9125792e-15 1.7526185e-16 1.1560463e-12 9.9391274e-13]]\n"
          ]
        }
      ]
    },
    {
      "cell_type": "code",
      "source": [
        "ypred = np.argmax(ypred)\n",
        "ypred"
      ],
      "metadata": {
        "colab": {
          "base_uri": "https://localhost:8080/"
        },
        "id": "4ARsPGkDkQtB",
        "outputId": "af266c06-7ca0-412e-b7c3-f58d8eb07487"
      },
      "execution_count": 56,
      "outputs": [
        {
          "output_type": "execute_result",
          "data": {
            "text/plain": [
              "0"
            ]
          },
          "metadata": {},
          "execution_count": 56
        }
      ]
    },
    {
      "cell_type": "code",
      "source": [
        "output = ['DrugY','drugX','drugA','drugC','drugB']\n",
        "output[ypred]"
      ],
      "metadata": {
        "colab": {
          "base_uri": "https://localhost:8080/",
          "height": 35
        },
        "id": "9KJH3m4yl9v8",
        "outputId": "b0b1f14e-0d20-43c2-c650-297fbeba45a5"
      },
      "execution_count": 57,
      "outputs": [
        {
          "output_type": "execute_result",
          "data": {
            "text/plain": [
              "'DrugY'"
            ],
            "application/vnd.google.colaboratory.intrinsic+json": {
              "type": "string"
            }
          },
          "metadata": {},
          "execution_count": 57
        }
      ]
    },
    {
      "cell_type": "code",
      "source": [
        "test_loss, test_acc = model.evaluate(xtest, ytest)\n",
        "print('Test accuracy:', test_acc * 100)"
      ],
      "metadata": {
        "colab": {
          "base_uri": "https://localhost:8080/"
        },
        "id": "R4SIxQ-sn4Ln",
        "outputId": "f3fa92b1-978b-4db9-bbd5-9ef3c5e29401"
      },
      "execution_count": 58,
      "outputs": [
        {
          "output_type": "stream",
          "name": "stdout",
          "text": [
            "2/2 [==============================] - 0s 11ms/step - loss: 0.2022 - accuracy: 0.9000\n",
            "Test accuracy: 89.99999761581421\n"
          ]
        }
      ]
    }
  ]
}